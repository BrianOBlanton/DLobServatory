{
 "cells": [
  {
   "cell_type": "code",
   "execution_count": 5,
   "metadata": {
    "collapsed": false
   },
   "outputs": [],
   "source": [
    "def GetCoopsUrl(STATION_ID, DATUM, BEGIN_DATE, END_DATE):\n",
    "    #STATION_ID=\"8651370\"\n",
    "    #DATUM=\"MSL\"\n",
    "    #BEGIN_DATE=\"19810101 00:00\"\n",
    "    #END_DATE  =\"19820101 00:00\"\n",
    "    url=['http://opendap.co-ops.nos.noaa.gov/dods/IOOS/Hourly_Height_Verified_Water_Level?',\n",
    "        'WATERLEVEL_HOURLY_VFD_PX.DATE_TIME,',\n",
    "        'WATERLEVEL_HOURLY_VFD_PX.WL_VALUE&',\n",
    "        'WATERLEVEL_HOURLY_VFD_PX._STATION_ID=\"%s\"&',\n",
    "        'WATERLEVEL_HOURLY_VFD_PX._DATUM=\"%s\"&',\n",
    "        'WATERLEVEL_HOURLY_VFD_PX._BEGIN_DATE=\"%s\"&',\n",
    "        'WATERLEVEL_HOURLY_VFD_PX._END_DATE=\"%s\"'\n",
    "        ]\n",
    "    url[3] = url[3] % STATION_ID\n",
    "    url[4] = url[4] % DATUM\n",
    "    url[5] = url[5] % BEGIN_DATE\n",
    "    url[6] = url[6] % END_DATE\n",
    "\n",
    "    FullUrl=\"\".join(url)\n",
    "    return FullUrl\n",
    "#nc2=netCDF4.Dataset(FullUrl)"
   ]
  },
  {
   "cell_type": "code",
   "execution_count": 6,
   "metadata": {
    "collapsed": false
   },
   "outputs": [],
   "source": [
    "STATION_ID=\"8651370\"\n",
    "DATUM=\"MSL\"\n",
    "BEGIN_DATE=\"19810101 00:00\"\n",
    "END_DATE  =\"19820101 00:00\"\n",
    "url=GetCoopsData(STATION_ID, DATUM, BEGIN_DATE, END_DATE)"
   ]
  },
  {
   "cell_type": "code",
   "execution_count": 7,
   "metadata": {
    "collapsed": false
   },
   "outputs": [
    {
     "name": "stdout",
     "output_type": "stream",
     "text": [
      "http://opendap.co-ops.nos.noaa.gov/dods/IOOS/Hourly_Height_Verified_Water_Level?WATERLEVEL_HOURLY_VFD_PX.DATE_TIME,WATERLEVEL_HOURLY_VFD_PX.WL_VALUE&WATERLEVEL_HOURLY_VFD_PX._STATION_ID=\"8651370\"&WATERLEVEL_HOURLY_VFD_PX._DATUM=\"MSL\"&WATERLEVEL_HOURLY_VFD_PX._BEGIN_DATE=\"19810101 00:00\"&WATERLEVEL_HOURLY_VFD_PX._END_DATE=\"19820101 00:00\"\n"
     ]
    }
   ],
   "source": [
    "print url"
   ]
  },
  {
   "cell_type": "code",
   "execution_count": 8,
   "metadata": {
    "collapsed": false
   },
   "outputs": [
    {
     "ename": "NameError",
     "evalue": "name 'Donkey' is not defined",
     "output_type": "error",
     "traceback": [
      "\u001b[0;31m---------------------------------------------------------------------------\u001b[0m",
      "\u001b[0;31mNameError\u001b[0m                                 Traceback (most recent call last)",
      "\u001b[0;32m<ipython-input-8-6e5e4b713596>\u001b[0m in \u001b[0;36m<module>\u001b[0;34m()\u001b[0m\n\u001b[1;32m      1\u001b[0m \u001b[0;34m\u001b[0m\u001b[0m\n\u001b[0;32m----> 2\u001b[0;31m \u001b[0;34m[\u001b[0m \u001b[0;36m1\u001b[0m\u001b[0;34m,\u001b[0m\u001b[0;36m2\u001b[0m\u001b[0;34m,\u001b[0m\u001b[0;36m3\u001b[0m\u001b[0;34m,\u001b[0m\u001b[0;34m\"This is a list\"\u001b[0m\u001b[0;34m,\u001b[0m\u001b[0;34m'c'\u001b[0m\u001b[0;34m,\u001b[0m\u001b[0mDonkey\u001b[0m\u001b[0;34m(\u001b[0m\u001b[0;34m\"kong\"\u001b[0m\u001b[0;34m)\u001b[0m \u001b[0;34m]\u001b[0m\u001b[0;34m\u001b[0m\u001b[0m\n\u001b[0m",
      "\u001b[0;31mNameError\u001b[0m: name 'Donkey' is not defined"
     ]
    }
   ],
   "source": [
    "\n",
    "[ 1,2,3,\"This is a list\",'c',Donkey(\"kong\") ]"
   ]
  },
  {
   "cell_type": "code",
   "execution_count": null,
   "metadata": {
    "collapsed": true
   },
   "outputs": [],
   "source": []
  }
 ],
 "metadata": {
  "kernelspec": {
   "display_name": "Python 2",
   "language": "python",
   "name": "python2"
  },
  "language_info": {
   "codemirror_mode": {
    "name": "ipython",
    "version": 2
   },
   "file_extension": ".py",
   "mimetype": "text/x-python",
   "name": "python",
   "nbconvert_exporter": "python",
   "pygments_lexer": "ipython2",
   "version": "2.7.9"
  }
 },
 "nbformat": 4,
 "nbformat_minor": 0
}
