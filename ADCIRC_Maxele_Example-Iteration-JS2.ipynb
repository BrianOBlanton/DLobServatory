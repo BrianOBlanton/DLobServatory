{
 "cells": [
  {
   "cell_type": "markdown",
   "metadata": {},
   "source": [
    "# basic plot of ADCIRC max water level for NSF-HSEES\n",
    "##Ensemble member number is set in \"ens\", and can be iterated over to load all ensemble members.  Note that the ADCIRC grid does not change between ensemble members, and so the part that gets the lon, lat, elements can be done once.  \n",
    "\n",
    "## exercise:  make a plot (template below) of the MOM for this Experiment.  I.e., the max across all maxes for the ensembles 1-21."
   ]
  },
  {
   "cell_type": "code",
   "execution_count": 1,
   "metadata": {
    "collapsed": false
   },
   "outputs": [],
   "source": [
    "from pylab import *\n",
    "import matplotlib.tri as Tri\n",
    "import matplotlib.pyplot as plt\n",
    "import netCDF4\n",
    "import datetime\n",
    "import time\n",
    "import sys\n",
    "%matplotlib inline"
   ]
  },
  {
   "cell_type": "code",
   "execution_count": 2,
   "metadata": {
    "collapsed": false
   },
   "outputs": [
    {
     "name": "stdout",
     "output_type": "stream",
     "text": [
      "http://opendap.renci.org:1935/thredds/dodsC/Experiments/Isabel_ex1/ADCIRC/12km/n01/maxele.63.nc\n"
     ]
    }
   ],
   "source": [
    "#  this is the THREDDS url to the Isabel Experiment #1, ensemble 01.  \n",
    "def getURL (ensemble):\n",
    "    url_base='http://opendap.renci.org:1935/thredds/dodsC/Experiments/Isabel_ex1/ADCIRC/12km/n%02d/maxele.63.nc'\n",
    "    url=url_base % ensemble\n",
    "    return url\n",
    "ens=1\n",
    "url = getURL(ens)\n",
    "print url"
   ]
  },
  {
   "cell_type": "code",
   "execution_count": 3,
   "metadata": {
    "collapsed": false
   },
   "outputs": [
    {
     "name": "stdout",
     "output_type": "stream",
     "text": [
      "[u'time', u'x', u'y', u'element', u'adcirc_mesh', u'neta', u'nvdll', u'max_nvdll', u'ibtypee', u'nbdv', u'nvel', u'nvell', u'max_nvell', u'ibtype', u'nbvv', u'depth', u'zeta_max', u'time_of_zeta_max']\n"
     ]
    }
   ],
   "source": [
    "# get ADCIRC grid parts;  this need ony be done once, as it can be time-comsuming over the network\n",
    "nc=netCDF4.Dataset(url)\n",
    "print nc.variables.keys()\n",
    "lon = nc.variables['x'][:]\n",
    "lat = nc.variables['y'][:]\n",
    "nv = nc.variables['element'][:,:] -1\n",
    "tri = Tri.Triangulation(lon,lat, triangles=nv)\n",
    "latmin = np.mean(lat)  # needed for scaling lon/lat plots\n"
   ]
  },
  {
   "cell_type": "code",
   "execution_count": 14,
   "metadata": {
    "collapsed": false
   },
   "outputs": [
    {
     "name": "stdout",
     "output_type": "stream",
     "text": [
      "(624782,)\n"
     ]
    }
   ],
   "source": [
    "# This gets the data associated with the variable;  this part should be looped over to load the sequence of ensembles; \n",
    "# this means looping over ens=1:21 and building the url each time.\n",
    "vname='zeta_max'\n",
    "var = nc.variables[vname]\n",
    "var_d=var[:]\n",
    "mom=np.zeros(var_d.shape)\n",
    "print mom.shape"
   ]
  },
  {
   "cell_type": "code",
   "execution_count": 15,
   "metadata": {
    "collapsed": false
   },
   "outputs": [
    {
     "name": "stdout",
     "output_type": "stream",
     "text": [
      "Ensemble 1\n",
      "   http://opendap.renci.org:1935/thredds/dodsC/Experiments/Isabel_ex1/ADCIRC/12km/n01/maxele.63.nc\n",
      "   11.1201056899\n",
      "Ensemble 2\n",
      "   http://opendap.renci.org:1935/thredds/dodsC/Experiments/Isabel_ex1/ADCIRC/12km/n02/maxele.63.nc\n",
      "   10.7202431425\n",
      "Ensemble 3\n",
      "   http://opendap.renci.org:1935/thredds/dodsC/Experiments/Isabel_ex1/ADCIRC/12km/n03/maxele.63.nc\n",
      "   10.7180298449\n",
      "Ensemble 4\n",
      "   http://opendap.renci.org:1935/thredds/dodsC/Experiments/Isabel_ex1/ADCIRC/12km/n04/maxele.63.nc\n",
      "   10.7161949855\n",
      "Ensemble 5\n",
      "   http://opendap.renci.org:1935/thredds/dodsC/Experiments/Isabel_ex1/ADCIRC/12km/n05/maxele.63.nc\n",
      "   10.7204144298\n",
      "Ensemble 6\n",
      "   http://opendap.renci.org:1935/thredds/dodsC/Experiments/Isabel_ex1/ADCIRC/12km/n06/maxele.63.nc\n",
      "   10.7347727643\n",
      "Ensemble 7\n",
      "   http://opendap.renci.org:1935/thredds/dodsC/Experiments/Isabel_ex1/ADCIRC/12km/n07/maxele.63.nc\n",
      "   10.7195450955\n",
      "Ensemble 8\n",
      "   http://opendap.renci.org:1935/thredds/dodsC/Experiments/Isabel_ex1/ADCIRC/12km/n08/maxele.63.nc\n",
      "   10.7195175952\n",
      "Ensemble 9\n",
      "   http://opendap.renci.org:1935/thredds/dodsC/Experiments/Isabel_ex1/ADCIRC/12km/n09/maxele.63.nc\n",
      "   10.7190743062\n",
      "Ensemble 10\n",
      "   http://opendap.renci.org:1935/thredds/dodsC/Experiments/Isabel_ex1/ADCIRC/12km/n10/maxele.63.nc\n",
      "   10.7178104752\n",
      "Ensemble 11\n",
      "   http://opendap.renci.org:1935/thredds/dodsC/Experiments/Isabel_ex1/ADCIRC/12km/n11/maxele.63.nc\n",
      "   10.7351103909\n",
      "Ensemble 12\n",
      "   http://opendap.renci.org:1935/thredds/dodsC/Experiments/Isabel_ex1/ADCIRC/12km/n12/maxele.63.nc\n",
      "   12.6756851187\n",
      "Ensemble 13\n",
      "   http://opendap.renci.org:1935/thredds/dodsC/Experiments/Isabel_ex1/ADCIRC/12km/n13/maxele.63.nc\n",
      "   10.7161087622\n",
      "Ensemble 14\n",
      "   http://opendap.renci.org:1935/thredds/dodsC/Experiments/Isabel_ex1/ADCIRC/12km/n14/maxele.63.nc\n",
      "   10.7204423334\n",
      "Ensemble 15\n",
      "   http://opendap.renci.org:1935/thredds/dodsC/Experiments/Isabel_ex1/ADCIRC/12km/n15/maxele.63.nc\n",
      "   12.7151100592\n",
      "Ensemble 16\n",
      "   http://opendap.renci.org:1935/thredds/dodsC/Experiments/Isabel_ex1/ADCIRC/12km/n16/maxele.63.nc\n",
      "   12.8640681841\n",
      "Ensemble 17\n",
      "   http://opendap.renci.org:1935/thredds/dodsC/Experiments/Isabel_ex1/ADCIRC/12km/n17/maxele.63.nc\n",
      "   10.7213088473\n",
      "Ensemble 18\n",
      "   http://opendap.renci.org:1935/thredds/dodsC/Experiments/Isabel_ex1/ADCIRC/12km/n18/maxele.63.nc\n",
      "   10.7175349977\n",
      "Ensemble 19\n",
      "   http://opendap.renci.org:1935/thredds/dodsC/Experiments/Isabel_ex1/ADCIRC/12km/n19/maxele.63.nc\n",
      "   10.8468019169\n",
      "Ensemble 20\n",
      "   http://opendap.renci.org:1935/thredds/dodsC/Experiments/Isabel_ex1/ADCIRC/12km/n20/maxele.63.nc\n",
      "   10.7330070266\n",
      "Ensemble 21\n",
      "   http://opendap.renci.org:1935/thredds/dodsC/Experiments/Isabel_ex1/ADCIRC/12km/n21/maxele.63.nc\n",
      "   10.7201626742\n",
      "Maximum in Mom array : 12.8640681841\n"
     ]
    }
   ],
   "source": [
    "#To make it easier to run, I added these here to prevent incorrect run numbers\n",
    "for ens in range(0,21):\n",
    "    ensp1=ens+1\n",
    "    url = getURL(ensp1)\n",
    "    print \"Ensemble \" + str(ensp1)\n",
    "    print '   ' + url\n",
    "    nc=netCDF4.Dataset(url)  # get new nc object for each ens \n",
    "    var = nc.variables[vname]\n",
    "    var_d=var[:]\n",
    "    maxv=np.max(var_d)\n",
    "    print '   ' + str(maxv)\n",
    "    mom=np.maximum(mom,var_d)\n",
    "print 'Maximum in Mom array : ' + str(np.max(mom))\n"
   ]
  },
  {
   "cell_type": "code",
   "execution_count": 18,
   "metadata": {
    "collapsed": false
   },
   "outputs": [
    {
     "name": "stdout",
     "output_type": "stream",
     "text": [
      "--\n",
      "(array([     0,    877,    878, ..., 624779, 624780, 624781]),)\n"
     ]
    }
   ],
   "source": [
    "# put nans where mom==0\n",
    "print mom[-1]\n",
    "print np.where(mom<1.e-6)\n",
    "mom[np.where(mom<1.e-6)]=mom[-1]"
   ]
  },
  {
   "cell_type": "code",
   "execution_count": 22,
   "metadata": {
    "collapsed": false
   },
   "outputs": [
    {
     "name": "stdout",
     "output_type": "stream",
     "text": [
      "Making contours in figure ...\n",
      "Calling tricontourf  ...\n",
      "[  0.   1.   2.   3.   4.   5.   6.   7.   8.   9.  10.  11.  12.  13.]\n"
     ]
    },
    {
     "data": {
      "image/png": "[encoded data removed]",
      "text/plain": [
       "<matplotlib.figure.Figure at 0x10a6a2890>"
      ]
     },
     "metadata": {},
     "output_type": "display_data"
    }
   ],
   "source": [
    "print 'Making contours in figure ...'\n",
    "fig = plt.figure(figsize=(18,9), dpi=144)\n",
    "ax = fig.add_axes([0.1, 0.1, 0.8, 0.8]) \n",
    "ax.set_aspect(1.0 / np.cos(latmin * np.pi / 180.0))\n",
    "\n",
    "print 'Calling tricontourf  ...'\n",
    "vmax=np.ceil(np.max(mom))\n",
    "levels = linspace(0.,vmax,vmax+1)\n",
    "print levels\n",
    "contour = tricontourf(tri, mom,levels=levels,shading='faceted')\n",
    "# plt.grid(True)\n",
    "# plt.xlim((-80,-74))\n",
    "# plt.ylim((33,37))\n",
    "# plt.tick_params(axis='both', which='major', labelsize=20)\n",
    "# plt.title('Ensemble Member = %02d' % ens, fontsize=16)\n",
    "\n",
    "# # add colorbar\n",
    "# cbax = fig.add_axes([0.80, 0.1, 0.05, 0.8]) \n",
    "# cb = plt.colorbar(contour, cax=cbax,  orientation='vertical')\n",
    "# cb.set_label(var.units, fontsize=24)\n",
    "# cb.ax.tick_params(axis='both', which='major', labelsize=20)"
   ]
  },
  {
   "cell_type": "code",
   "execution_count": null,
   "metadata": {
    "collapsed": true
   },
   "outputs": [],
   "source": []
  }
 ],
 "metadata": {
  "kernelspec": {
   "display_name": "Python 2",
   "language": "python",
   "name": "python2"
  },
  "language_info": {
   "codemirror_mode": {
    "name": "ipython",
    "version": 2
   },
   "file_extension": ".py",
   "mimetype": "text/x-python",
   "name": "python",
   "nbconvert_exporter": "python",
   "pygments_lexer": "ipython2",
   "version": "2.7.9"
  }
 },
 "nbformat": 4,
 "nbformat_minor": 0
}
