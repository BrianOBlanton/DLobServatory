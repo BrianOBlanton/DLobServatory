{
 "cells": [
  {
   "cell_type": "markdown",
   "metadata": {},
   "source": [
    "##### Example of a Jupyter notebook with a MATLAB kernel.\n",
    "\n",
    "Uses nctoolbox and the Java Topology Suite to:\n",
    "1. Get ADCIRC output from a THREDDS server\n",
    "2. Display a field  \n",
    "3. Find a station location in the grid.  \n",
    "4. Extract time series from solution \n",
    "5. Interpolate to station location\n",
    "\n",
    "** Get nctoolbox ** from here: https://github.com/nctoolbox/nctoolbox\n",
    "Put it somewhere in your MATLAB path. \n",
    "\n",
    "** Get the Java Topology Suite (JTS) **  from here: https://sourceforge.net/projects/jts-topo-suite/\n",
    "Put the jar file in your matlab directory and add the path to the static java path: \n",
    "1. Find the javaclasspath.txt file (location depends on MATLAB version)\n",
    "2. Add /<path_to_my_matlab_dir/>/jts-1.9.jar to javaclasspath.txt (or whatever jts version you have)"
   ]
  },
  {
   "cell_type": "code",
   "execution_count": null,
   "metadata": {
    "collapsed": false
   },
   "outputs": [],
   "source": [
    "%url='http://opendap.renci.org:1935/thredds/dodsC/Experiments/Isabel_ex1/ADCIRC/12km/n01/maxele.63.nc';\n",
    "url='http://opendap.renci.org:1935/thredds/dodsC/daily/nam/2016030800/nc6b/hatteras.renci.org/dailyv51/namforecast/fort.63.nc';"
   ]
  },
  {
   "cell_type": "code",
   "execution_count": null,
   "metadata": {
    "collapsed": false
   },
   "outputs": [],
   "source": [
    "which ncgeodataset"
   ]
  },
  {
   "cell_type": "code",
   "execution_count": null,
   "metadata": {
    "collapsed": false
   },
   "outputs": [],
   "source": [
    "nc=ncgeodataset(url)"
   ]
  },
  {
   "cell_type": "code",
   "execution_count": null,
   "metadata": {
    "collapsed": false
   },
   "outputs": [],
   "source": [
    "% get an ncgeovariable from the ncgeodataset nc\n",
    "zeta=nc{'zeta'}                    % this does NOT extract the data from the nc file.\n",
    "time=nc.time('time');              % get time variable in datenum format\n",
    "%dtime=datetime(datevec(time));     % create a datetime object"
   ]
  },
  {
   "cell_type": "code",
   "execution_count": null,
   "metadata": {
    "collapsed": false
   },
   "outputs": [],
   "source": [
    "% size of underlying data\n",
    "temp=zeta.size;        % could have done size(zeta)\n",
    "nt=temp(1);"
   ]
  },
  {
   "cell_type": "code",
   "execution_count": null,
   "metadata": {
    "collapsed": false
   },
   "outputs": [],
   "source": [
    "% get the grid from the ncgeodataset object\n",
    "fgs=ExtractGrid(nc);"
   ]
  },
  {
   "cell_type": "code",
   "execution_count": null,
   "metadata": {
    "collapsed": true
   },
   "outputs": [],
   "source": [
    "% Compute strtree for grid\n",
    "fgs.strtree=ComputeStrTree(fgs);"
   ]
  },
  {
   "cell_type": "code",
   "execution_count": null,
   "metadata": {
    "collapsed": false
   },
   "outputs": [],
   "source": [
    "% make a color surface plot fo the first time level\n",
    "zeta1=zeta.data(1,:)';  % this DOES extract data, getting the first time level from the ncgeovariable\n",
    "colormesh2d(fgs,zeta1)\n",
    "axis('equal')\n",
    "axis('tight')\n",
    "colorbar\n",
    "set(gca,'FontSize',6)\n",
    "caxis([0 2])\n",
    "colormap(parula(10))"
   ]
  },
  {
   "cell_type": "code",
   "execution_count": null,
   "metadata": {
    "collapsed": false
   },
   "outputs": [],
   "source": [
    "% point to locate in grid\n",
    "lon1=[-80 -75];\n",
    "lat1=[ 30  30];\n",
    "nsta=length(lon1);"
   ]
  },
  {
   "cell_type": "code",
   "execution_count": null,
   "metadata": {
    "collapsed": false
   },
   "outputs": [],
   "source": [
    "j=FindElementsInStrTree(fgs,lon1,lat1)"
   ]
  },
  {
   "cell_type": "code",
   "execution_count": null,
   "metadata": {
    "collapsed": false
   },
   "outputs": [],
   "source": [
    "%%% Compute basis functions for lon1,lat1,j\n",
    "%%%\n",
    "n=fgs.e(j,:);  \n",
    "xl=fgs.x(n);\n",
    "yl=fgs.y(n);\n",
    "\n",
    "% Form triangles for the element and 3 sub triangles\n",
    "x=[ xl;  lon1' xl(:,2:3); xl(:,1) lon1' xl(:,3);  xl(:,1:2) lon1' ];\n",
    "y=[ yl;  lat1' yl(:,2:3); yl(:,1) lat1' yl(:,3);  yl(:,1:2) lat1' ];\n",
    "\n",
    "a=Area3(x,y);\n",
    "a=reshape(a,length(lon1),4);\n",
    "% divide the subareas by the element area in column 1\n",
    "phi=bsxfun(@rdivide, a(:,2:4), a(:,1));"
   ]
  },
  {
   "cell_type": "code",
   "execution_count": null,
   "metadata": {
    "collapsed": false
   },
   "outputs": [],
   "source": [
    "% Loop over stations and time to interpolate\n",
    "% Because we are striding through the time dimension (index k below), \n",
    "% access is not as fast as getting node values out along a spatial dimension.\n",
    "% Still,  it's faster than downloading the large ADCIRC file.\n",
    "sta_z=nan(nt,nsta);\n",
    "for k=1:nsta\n",
    "    zlocal=nan(nt,3);\n",
    "    for i=1:nt\n",
    "        zlocal(i,1)=zeta.data(i,n(k,1));\n",
    "        zlocal(i,2)=zeta.data(i,n(k,2));\n",
    "        zlocal(i,3)=zeta.data(i,n(k,3));\n",
    "        sta_z(i,k)=sum(zlocal(i,:).*phi(k,:));\n",
    "    end\n",
    "end"
   ]
  },
  {
   "cell_type": "code",
   "execution_count": null,
   "metadata": {
    "collapsed": false
   },
   "outputs": [],
   "source": [
    "plot(time,sta_z);set(gca,'FontSize',6);axis('equal');grid"
   ]
  }
 ],
 "metadata": {
  "kernelspec": {
   "display_name": "Matlab",
   "language": "matlab",
   "name": "matlab"
  },
  "language_info": {
   "codemirror_mode": "octave",
   "file_extension": ".m",
   "help_links": [
    {
     "text": "MetaKernel Magics",
     "url": "https://github.com/calysto/metakernel/blob/master/metakernel/magics/README.md"
    }
   ],
   "mimetype": "text/x-matlab",
   "name": "matlab",
   "version": "0.8.0"
  }
 },
 "nbformat": 4,
 "nbformat_minor": 0
}
