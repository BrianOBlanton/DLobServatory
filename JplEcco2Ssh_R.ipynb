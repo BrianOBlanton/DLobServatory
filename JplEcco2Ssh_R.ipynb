{
 "cells": [
  {
   "cell_type": "markdown",
   "metadata": {},
   "source": [
    "https://journal.r-project.org/archive/2011-1/RJournal_2011-1_South.pdf\n",
    "https://cran.r-project.org/web/packages/rworldmap/rworldmap.pdf\n"
   ]
  },
  {
   "cell_type": "code",
   "execution_count": 3,
   "metadata": {
    "collapsed": false
   },
   "outputs": [
    {
     "name": "stderr",
     "output_type": "stream",
     "text": [
      "Loading required package: sp\n",
      "### Welcome to rworldmap ###\n",
      "For a short introduction type : \t vignette('rworldmap')\n"
     ]
    }
   ],
   "source": [
    "library(ncdf4)\n",
    "library(RColorBrewer)\n",
    "library(rworldmap)"
   ]
  },
  {
   "cell_type": "code",
   "execution_count": 4,
   "metadata": {
    "collapsed": true
   },
   "outputs": [],
   "source": [
    "urlpath='http://mrtee.europa.renci.org:8080/thredds/dodsC/DataLayers/'\n",
    "filen='JPL.ECCO2.SSH.1440x720.20140917.nc'\n",
    "url=paste(urlpath, filen,sep='')"
   ]
  },
  {
   "cell_type": "code",
   "execution_count": 5,
   "metadata": {
    "collapsed": true
   },
   "outputs": [],
   "source": [
    "nc=nc_open(url)\n",
    "lon=ncvar_get(nc,\"LONGITUDE_T\")\n",
    "lon <- lon-180\n",
    "lat=ncvar_get(nc,\"LATITUDE_T\")\n",
    "ssh=ncvar_get(nc, \"SSH\")\n",
    "\n",
    "# reverse the y values\n",
    "ssh <-ssh[ ,nc$dim$LATITUDE_T$len:1 ]\n",
    "\n",
    "# swap east and west hemispheres\n",
    "i=nc$dim$LONGITUDE_T$len/2;\n",
    "s2 <- ssh[1:i , ]\n",
    "s1 <- ssh[(i+1):(i*2) , ]\n",
    "ssh2 <- rbind(s1, s2)"
   ]
  },
  {
   "cell_type": "code",
   "execution_count": 6,
   "metadata": {
    "collapsed": true
   },
   "outputs": [],
   "source": [
    "# create gridTopology from the netCDF metadata\n",
    "offset = c(min(lon),min(lat))\n",
    "cellsize = c( abs(diff(lon[1:2])), abs(diff(lat[1:2])))\n",
    "\n",
    "# add cellsize/2 to offset\n",
    "# to convert from lower left referencing to centre\n",
    "offset = offset + cellsize/2\n",
    "cells.dim = c(nc$dim$LONGITUDE_T$len, nc$dim$LATITUDE_T$len)\n",
    "\n",
    "gt <- GridTopology(cellcentre.offset = offset,\n",
    "                   cellsize = cellsize,\n",
    "                   cells.dim = cells.dim )"
   ]
  },
  {
   "cell_type": "code",
   "execution_count": 10,
   "metadata": {
    "collapsed": true
   },
   "outputs": [],
   "source": [
    "#create a vector to classify the data\n",
    "catMethod=seq(from=-2,to=2,by=.1)\n",
    "\n",
    "#create a colourPalette for all plots\n",
    "#-ve blue, 0 white, +ve yellow to red\n",
    "colourPalette=c('blue','lightblue','white',brewer.pal(9,'YlOrRd'))\n",
    "\n",
    "#create a spatialGridDataFrame\n",
    "gridVals <-data.frame(att=as.vector(ssh2))\n",
    "sGDF <-SpatialGridDataFrame(gt, data=gridVals)"
   ]
  },
  {
   "cell_type": "code",
   "execution_count": null,
   "metadata": {
    "collapsed": false
   },
   "outputs": [],
   "source": [
    "mapParams <- mapGriddedData(sGDF,\n",
    "                            nameColumnToPlot='att',\n",
    "                            catMethod=catMethod,\n",
    "                            colourPalette=colourPalette,\n",
    "                            addLegend=FALSE)\n",
    "#adding formatted legend\n",
    "do.call(addMapLegend, c(mapParams, legendLabels=\"all\", legendWidth=0.5, legendMar = 3))\n",
    "\n",
    "title(filen)"
   ]
  },
  {
   "cell_type": "code",
   "execution_count": null,
   "metadata": {
    "collapsed": true
   },
   "outputs": [],
   "source": []
  }
 ],
 "metadata": {
  "kernelspec": {
   "display_name": "R",
   "language": "R",
   "name": "ir"
  },
  "language_info": {
   "codemirror_mode": "r",
   "file_extension": ".r",
   "mimetype": "text/x-r-source",
   "name": "R",
   "pygments_lexer": "r",
   "version": "3.2.4"
  }
 },
 "nbformat": 4,
 "nbformat_minor": 0
}
