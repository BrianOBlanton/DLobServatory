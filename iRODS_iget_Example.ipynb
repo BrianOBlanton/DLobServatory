{
 "cells": [
  {
   "cell_type": "code",
   "execution_count": 7,
   "metadata": {
    "collapsed": true
   },
   "outputs": [],
   "source": [
    "# Example of iRODS get in Python client API\n",
    "# Just file in your password and file names\n",
    "\n",
    "# Need to make sure irods client API is installed in your env:\n",
    "# pip install git+git://github.com/irods/python-irodsclient.git\n",
    "\n",
    "# See for more info: https://github.com/iPlantCollaborativeOpenSource/python-irodsclient/blob/master/README.md\n",
    "\n",
    "import os\n",
    "import tempfile\n",
    "from irods.session import iRODSSession\n",
    "import netCDF4"
   ]
  },
  {
   "cell_type": "code",
   "execution_count": 8,
   "metadata": {
    "collapsed": false
   },
   "outputs": [],
   "source": [
    "irods_path = \"/eesZone/home/bblanton/jan.nc\"\n",
    "local_path = \"banana.nc\"\n",
    "local_f = None\n",
    "irods_f = None\n",
    "\n",
    "# get irods session\n",
    "sess = iRODSSession(host='ees.renci.org', port=1247, user='bblanton', password='renci!ees', zone='eesZone')\n",
    "\n",
    "# get irods object info\n",
    "obj = sess.data_objects.get(irods_path)\n",
    "\n",
    "# now do actual iget to local file\n",
    "try:\n",
    "    # open irods data object file\n",
    "    with obj.open(\"r\") as irods_f:\n",
    "        data = irods_f.read()\n",
    "            \n",
    "    # write to local file \n",
    "    with open(local_path, 'w+') as local_f:\n",
    "        local_f.write(data)\n",
    "            \n",
    "except Exception as ex:\n",
    "    print(\"Unable to iget: \" + irods_path)\n",
    "finally:\n",
    "    # close everything\n",
    "    if local_f is not None:\n",
    "        local_f.close()\n",
    "    if irods_f is not None:\n",
    "        irods_f.close()"
   ]
  },
  {
   "cell_type": "code",
   "execution_count": 9,
   "metadata": {
    "collapsed": false
   },
   "outputs": [
    {
     "name": "stdout",
     "output_type": "stream",
     "text": [
      "<_io.BufferedRandom>\n",
      "<type 'netCDF4._netCDF4.Dataset'>\n",
      "root group (NETCDF3_CLASSIC data model, file format NETCDF3):\n",
      "    title: Example Data\n",
      "    dimensions(sizes): lat(3), lon(4), time(31)\n",
      "    variables(dimensions): float64 \u001b[4mP\u001b[0m(time,lat,lon), float64 \u001b[4mT\u001b[0m(time,lat,lon), float32 \u001b[4mlat\u001b[0m(lat), float32 \u001b[4mlon\u001b[0m(lon), int32 \u001b[4mtime\u001b[0m(time)\n",
      "    groups: \n",
      "\n"
     ]
    }
   ],
   "source": [
    "print irods_f\n",
    "nc=netCDF4.Dataset(local_path)\n",
    "print nc"
   ]
  },
  {
   "cell_type": "code",
   "execution_count": 5,
   "metadata": {
    "collapsed": false
   },
   "outputs": [
    {
     "name": "stdout",
     "output_type": "stream",
     "text": [
      "<irods.manager.data_object_manager.DataObjectManager object at 0x10b924910>\n"
     ]
    }
   ],
   "source": [
    "print obj.manager"
   ]
  },
  {
   "cell_type": "code",
   "execution_count": null,
   "metadata": {
    "collapsed": true
   },
   "outputs": [],
   "source": []
  }
 ],
 "metadata": {
  "kernelspec": {
   "display_name": "Python 2",
   "language": "python",
   "name": "python2"
  },
  "language_info": {
   "codemirror_mode": {
    "name": "ipython",
    "version": 2
   },
   "file_extension": ".py",
   "mimetype": "text/x-python",
   "name": "python",
   "nbconvert_exporter": "python",
   "pygments_lexer": "ipython2",
   "version": "2.7.13"
  }
 },
 "nbformat": 4,
 "nbformat_minor": 0
}
