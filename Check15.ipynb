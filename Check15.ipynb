{
 "cells": [
  {
   "cell_type": "code",
   "execution_count": 215,
   "metadata": {
    "collapsed": true
   },
   "outputs": [],
   "source": [
    "import os,sys,getopt\n",
    "import numpy as np\n",
    "import netCDF4"
   ]
  },
  {
   "cell_type": "code",
   "execution_count": 216,
   "metadata": {
    "collapsed": false
   },
   "outputs": [],
   "source": [
    "possible_nodal_attributes=['primitive_weighting_in_continuity_equation',\n",
    "                           'surface_submergence_state',\n",
    "                           'quadratic_friction_coefficient_at_sea_floor',\n",
    "                           'surface_directional_effective_roughness_length',\n",
    "                           'surface_canopy_coefficient',\n",
    "                           'bridge_pilings_friction_paramenters',\n",
    "                           'mannings_n_at_sea_floor',\n",
    "                           'chezy_friction_coefficient_at_sea_floor',\n",
    "                           'sea_surface_height_above_geoid',\n",
    "                           'bottom_roughness_length',\n",
    "                           'wave_refraction_in_swan',\n",
    "                           'average_horizontal_eddy_viscosity_in_sea_water_wrt_depth',\n",
    "                           'elemental_slope_limiter']"
   ]
  },
  {
   "cell_type": "code",
   "execution_count": 273,
   "metadata": {
    "collapsed": false
   },
   "outputs": [
    {
     "name": "stdout",
     "output_type": "stream",
     "text": [
      "Grid has 119 open boundary nodes.\n",
      "Grid has river nodes.\n",
      "(34654, 241)\n"
     ]
    }
   ],
   "source": [
    "#\n",
    "nc=netCDF4.Dataset('maxele.63.nc')\n",
    "nopen=nc['max_nvdll'][0]\n",
    "print \"Grid has {} open boundary nodes.\".format(nopen)\n",
    "ibtype=nc['ibtype'][:]\n",
    "fort20=False\n",
    "if any(ibtype==22) : \n",
    "    fort20=True\n",
    "    print \"Grid has river nodes.\"\n",
    "\n",
    "nbvv=nc['nbvv']\n",
    "print nbvv.shape"
   ]
  },
  {
   "cell_type": "code",
   "execution_count": 270,
   "metadata": {
    "collapsed": false
   },
   "outputs": [
    {
     "name": "stdout",
     "output_type": "stream",
     "text": [
      "Number of tidal potential forcing frequencies = 8\n",
      "Number of boundary forcing frequencies = 8\n",
      "ihot=568\n",
      "rnday=69.25, rnday2=45.0\n",
      "   RNDAY exceeds time in hotstart file.  This is good.\n"
     ]
    }
   ],
   "source": [
    "#\n",
    "\n",
    "f='fort.15'\n",
    "if not os.path.isfile(f):\n",
    "    print f + \" not found.\"\n",
    "    sys.exit()\n",
    "    \n",
    "f15 = open(f, 'r')\n",
    "header=f15.readline()\n",
    "ident=f15.readline() \n",
    "nfover=f15.readline().split()[0]\n",
    "nabout=f15.readline().split()[0]\n",
    "nscreen=f15.readline().split()[0]\n",
    "ihot=f15.readline().split()[0]\n",
    "ics=f15.readline().split()[0]\n",
    "im=f15.readline().split()[0]\n",
    "nolibf=f15.readline().split()[0]\n",
    "nolifa=f15.readline().split()[0]\n",
    "nolica=f15.readline().split()[0]\n",
    "nolicat=f15.readline().split()[0]\n",
    "nwp=f15.readline().split()[0]\n",
    "for i in range(int(nwp)):\n",
    "    nwp_val=f15.readline().split()[0]\n",
    "    if not nwp_val in possible_nodal_attributes :\n",
    "        print \"Nodal attribute {} not known.\".format(nwp_val)\n",
    "        sys.exit()\n",
    "\n",
    "ncor=f15.readline().split()[0]\n",
    "ntip=int(f15.readline().split()[0])\n",
    "nws=f15.readline().split()[0]\n",
    "nramp=f15.readline().split()[0]\n",
    "g=f15.readline().split()[0]\n",
    "tau=f15.readline().split()[0]\n",
    "# check for taumin,,,\n",
    "\n",
    "dt=f15.readline().split()[0]\n",
    "statim=f15.readline().split()[0]\n",
    "reftim=f15.readline().split()[0]\n",
    "if int(nws)>0:\n",
    "    wtiminc=f15.readline().split()\n",
    "    \n",
    "    \n",
    "rnday=float(f15.readline().split()[0])\n",
    "dramp=f15.readline().split()\n",
    "\n",
    "timeweights=f15.readline().split()[0:3];\n",
    "timeweights = map(float, timeweights)\n",
    "\n",
    "if np.sum(timeweights) > 1 :\n",
    "    print \"Time weights sum > 1.  this is dumb.\" \n",
    "    sys.exit()\n",
    "elif im == '111112' :\n",
    "    if not timeweights[1] == 1 :\n",
    "        print \"Middle time weight should be 1.0 if IM=='111112'.\"\n",
    "        sys.exit()\n",
    "\n",
    "h0=f15.readline().split()\n",
    "\n",
    "SLAM0,SFEA0=f15.readline().split()[0:2];\n",
    "\n",
    "ffactor=f15.readline().split()\n",
    "esl=f15.readline().split()[0]\n",
    "cori=f15.readline().split()[0]\n",
    "\n",
    "# process tidal potential forcing\n",
    "ntif=int(f15.readline().split()[0])\n",
    "print \"Number of tidal potential forcing frequencies = {}\".format(ntif)\n",
    "if ntip == 0 and ntif>0 :\n",
    "    print \"Tidal potential forcing will not be used, even though it is specified (NTIF>0).\" \n",
    "for i in range(ntif) :\n",
    "    cname=f15.readline().split()[0]\n",
    "    cname_facs=f15.readline().split()\n",
    "    #print \"{}: Scanned {}:{} \".format(i,cname,cname_facs)\n",
    "\n",
    "# process open boundary forcing\n",
    "nbfr=int(f15.readline().split()[0])\n",
    "print \"Number of boundary forcing frequencies = {}\".format(nbfr)\n",
    "for i in range(nbfr) :\n",
    "    cname=f15.readline().split()[0]\n",
    "    #print \"{}: Scanning {} \".format(i,cname)\n",
    "    cname_facs=f15.readline().split()\n",
    "for i in range(nbfr) :\n",
    "    cname=f15.readline().split()\n",
    "    #print \"{}: Constituent {} \".format(i,cname)\n",
    "    for j in range(nopen) :\n",
    "        amppha=f15.readline().split()\n",
    "        #print \"     {}: Scanning {} \".format(j,amppha)   \n",
    "    \n",
    "ANGINN=f15.readline().split()\n",
    "if fort20 : \n",
    "    NFFR=int(f15.readline().split()[0])\n",
    "    if NFFR == 0 or NFFR == -1 :\n",
    "        if not os.path.isfile('fort.20'):\n",
    "            print \"fort.20 not found. This will be terminal at runtime.\"\n",
    "        else:\n",
    "            f20=open('fort.20', 'r')\n",
    "            f20_timeinc=float(f20.readline().split()[0])\n",
    "            \n",
    "\n",
    "NOUTE_Line=f15.readline().split()\n",
    "NNOUTE=int(f15.readline().split()[0])\n",
    "for i in range(NNOUTE) :\n",
    "    line=f15.readline().split()\n",
    "\n",
    "NOUTV_Line=f15.readline().split()\n",
    "NNOUTV=int(f15.readline().split()[0])\n",
    "for i in range(NNOUTV) :\n",
    "    line=f15.readline().split()\n",
    "\n",
    "if nws > 0 :\n",
    "    NOUTM_Line=f15.readline().split()\n",
    "    NNOUTM=int(f15.readline().split()[0])\n",
    "    for i in range(NNOUTM) :\n",
    "        line=f15.readline().split()    \n",
    "\n",
    "NOUTGE_Line=f15.readline().split()\n",
    "NOUTGV_Line=f15.readline().split()\n",
    "if nws > 0 :\n",
    "    NOUTGM_Line=f15.readline().split()\n",
    "\n",
    "\n",
    "NHARF=int(f15.readline().split(\"!\")[0])\n",
    "THAS, THAF, NHAINC,FMV=f15.readline().split()[0:4]\n",
    "\n",
    "NHASE,NHASV,NHAGE,NHAGV=f15.readline().split()[0:4]\n",
    "NHSTAR,NHSINC=f15.readline().split()[0:2]\n",
    "   \n",
    "ITITER,ISLDIA,CONVCR,ITMAX=f15.readline().split()[0:4]\n",
    "\n",
    "f15.close()      \n",
    "\n",
    "# check values/files\n",
    "ihot=int(ihot)\n",
    "print \"ihot={}\".format(ihot)\n",
    "if ihot == 67 : \n",
    "    if not os.path.isfile('fort.67'):\n",
    "        print \"ihot == {}, but fort.67 not found. This will be terminal at runtime.\".format(ihot)\n",
    "elif ihot == 68 : \n",
    "    if not os.path.isfile('fort.68'):\n",
    "        print \"ihot == {}, but fort.68 not found. This will be terminal at runtime.\".format(ihot)\n",
    "elif ihot == 567 : \n",
    "    if not os.path.isfile('fort.67.nc'):\n",
    "        print \"ihot == {}, but fort.67.nc not found. This will be terminal at runtime.\".format(ihot)\n",
    "elif ihot == 568 : \n",
    "    if not os.path.isfile('fort.68.nc'):\n",
    "        print \"ihot == {}, but fort.68.nc not found. This will be terminal at runtime.\".format(ihot)\n",
    "    nc=netCDF4.Dataset('fort.68.nc')\n",
    "    rndayInHs=nc.rnday\n",
    "    print \"rnday={}, rnday2={}\".format(rnday,rnday2)\n",
    "    if rnday > rndayInHs : \n",
    "        print \"   RNDAY exceeds time in hotstart file.  This is good.\" \n",
    "    elif rnday == rndayInHs : \n",
    "        print \"   RNDAY equals time in hotstart file.  This is dumb.  Nothing will get computed.\" \n",
    "    elif rnday > rndayInHs : \n",
    "        print \"   RNDAY less than time in hotstart file.  This is bad.\" \n",
    "\n"
   ]
  },
  {
   "cell_type": "code",
   "execution_count": 171,
   "metadata": {
    "collapsed": false
   },
   "outputs": [
    {
     "data": {
      "text/plain": [
       "u'/Users/bblanton/Sites/NoteBooks'"
      ]
     },
     "execution_count": 171,
     "metadata": {},
     "output_type": "execute_result"
    }
   ],
   "source": [
    "pwd"
   ]
  },
  {
   "cell_type": "code",
   "execution_count": null,
   "metadata": {
    "collapsed": true
   },
   "outputs": [],
   "source": []
  },
  {
   "cell_type": "code",
   "execution_count": null,
   "metadata": {
    "collapsed": true
   },
   "outputs": [],
   "source": []
  }
 ],
 "metadata": {
  "kernelspec": {
   "display_name": "Python 2",
   "language": "python",
   "name": "python2"
  },
  "language_info": {
   "codemirror_mode": {
    "name": "ipython",
    "version": 2
   },
   "file_extension": ".py",
   "mimetype": "text/x-python",
   "name": "python",
   "nbconvert_exporter": "python",
   "pygments_lexer": "ipython2",
   "version": "2.7.13"
  }
 },
 "nbformat": 4,
 "nbformat_minor": 2
}
