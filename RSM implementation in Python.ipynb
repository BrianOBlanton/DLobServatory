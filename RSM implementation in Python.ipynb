{
 "cells": [
  {
   "cell_type": "markdown",
   "metadata": {},
   "source": [
    "import matlab .mat file into python\n"
   ]
  },
  {
   "cell_type": "code",
   "execution_count": 1,
   "metadata": {
    "collapsed": false
   },
   "outputs": [],
   "source": [
    "#import tables\n",
    "import h5py\n",
    "import numpy as np\n",
    "\n",
    "mf='temp.mat';\n",
    "\n",
    "\n",
    "f = h5py.File(mf, \"r\")\n",
    "#f = tables.openFile(mf, \"r\")\n"
   ]
  },
  {
   "cell_type": "code",
   "execution_count": 78,
   "metadata": {
    "collapsed": false
   },
   "outputs": [
    {
     "name": "stdout",
     "output_type": "stream",
     "text": [
      "(648, 6) <type 'numpy.ndarray'> 7.71\n",
      "(648, 885) <type 'numpy.ndarray'> 0.0986190717537\n",
      "() <type 'numpy.ndarray'> 0.229751745351\n",
      "(6,) 100.56\n",
      "<type 'numpy.ndarray'> [ 1.  2.  3.  4.  5.  6.]\n"
     ]
    }
   ],
   "source": [
    "#print f.keys()\n",
    "#for name in f:\n",
    "#     print name\n",
    "\"P\" in f\n",
    "c=np.squeeze(f['c'][:])\n",
    "k=np.squeeze(f['k'][:])\n",
    "Nd=np.squeeze(f['n_d'][:])\n",
    "P=np.transpose(f['P'][:])\n",
    "R=np.transpose(f['R'][:])\n",
    "weights=np.squeeze(f['weights'][:])\n",
    "index=np.squeeze(f['index'][:])\n",
    "xtest=np.squeeze(f['X'][:])\n",
    "xtest=np.squeeze(np.transpose(xtest))\n",
    "print P.shape, type(P), P[45,4]\n",
    "print R.shape, type(R), R[45,4]\n",
    "print c.shape, type(c), c\n",
    "print xtest.shape,xtest[0]\n",
    "print type(index), index\n"
   ]
  },
  {
   "cell_type": "code",
   "execution_count": 151,
   "metadata": {
    "collapsed": false
   },
   "outputs": [],
   "source": [
    "def central_ckv (P,R,c,k,weights,Nd,index,xtest):\n",
    "    \n",
    "    P=np.transpose(P)\n",
    "    ni=index.shape[0]\n",
    "    index=(index-1).astype(int)    \n",
    "    print index, ni\n",
    "    \n",
    "    # normalization of model parameters \n",
    "    v_aux=np.diag(1/np.mean(P,axis=1))\n",
    "    \n",
    "    # convert model parameters to normalised space\n",
    "    Normalized_P=np.dot(v_aux,P)\n",
    "    \n",
    "    # number of support points\n",
    "    NSupportPoints=Normalized_P.shape[1];  \n",
    "    Weight_Matrix=np.diag(weights/np.std(Normalized_P,axis=1)); \n",
    "    mean_R=np.mean(R,axis=0); \n",
    "    std_R=np.std(R,axis=0);\n",
    "\n",
    "    for i in range(0,1): # NSupportPoints):\n",
    "        aux=np.empty\n",
    "        for j in range(0,ni):\n",
    "            ii=index[j]\n",
    "            print i,j,ii,ni,index[j:ni]\n",
    "            temp=[Normalized_P[ii,i]*Normalized_P[index[j:ni],i]];\n",
    "            print aux.shape,temp.shape\n",
    "            aux=np.column_stack((aux, temp))\n",
    "\n",
    "\n",
    "\n",
    "    print temp, aux\n",
    "    #print Weight_Matrix\n",
    "    #print c*k\n",
    "    #print P[45,4],R[45,4]\n",
    "    #print xtest[0]\n",
    "    #print v_aux.shape,P.shape, type(P)\n",
    "    #print p.shape, type(p)\n",
    "    #print type(v_aux),type(P)\n",
    "    #print v_aux\n",
    "    #print NSupportPoints"
   ]
  },
  {
   "cell_type": "code",
   "execution_count": 152,
   "metadata": {
    "collapsed": false
   },
   "outputs": [
    {
     "name": "stdout",
     "output_type": "stream",
     "text": [
      "[0 1 2 3 4 5] 6\n",
      "0 0 0 6 [0 1 2 3 4 5]\n"
     ]
    },
    {
     "ename": "AttributeError",
     "evalue": "'builtin_function_or_method' object has no attribute 'shape'",
     "output_type": "error",
     "traceback": [
      "\u001b[0;31m---------------------------------------------------------------------------\u001b[0m",
      "\u001b[0;31mAttributeError\u001b[0m                            Traceback (most recent call last)",
      "\u001b[0;32m<ipython-input-152-c53cccac65c3>\u001b[0m in \u001b[0;36m<module>\u001b[0;34m()\u001b[0m\n\u001b[0;32m----> 1\u001b[0;31m \u001b[0mcentral_ckv\u001b[0m\u001b[0;34m(\u001b[0m\u001b[0mP\u001b[0m\u001b[0;34m,\u001b[0m\u001b[0mR\u001b[0m\u001b[0;34m,\u001b[0m\u001b[0mc\u001b[0m\u001b[0;34m,\u001b[0m\u001b[0mk\u001b[0m\u001b[0;34m,\u001b[0m\u001b[0mweights\u001b[0m\u001b[0;34m,\u001b[0m\u001b[0mNd\u001b[0m\u001b[0;34m,\u001b[0m\u001b[0mindex\u001b[0m\u001b[0;34m,\u001b[0m\u001b[0mxtest\u001b[0m\u001b[0;34m)\u001b[0m\u001b[0;34m\u001b[0m\u001b[0m\n\u001b[0m",
      "\u001b[0;32m<ipython-input-151-0237838327c0>\u001b[0m in \u001b[0;36mcentral_ckv\u001b[0;34m(P, R, c, k, weights, Nd, index, xtest)\u001b[0m\n\u001b[1;32m     24\u001b[0m             \u001b[0;32mprint\u001b[0m \u001b[0mi\u001b[0m\u001b[0;34m,\u001b[0m\u001b[0mj\u001b[0m\u001b[0;34m,\u001b[0m\u001b[0mii\u001b[0m\u001b[0;34m,\u001b[0m\u001b[0mni\u001b[0m\u001b[0;34m,\u001b[0m\u001b[0mindex\u001b[0m\u001b[0;34m[\u001b[0m\u001b[0mj\u001b[0m\u001b[0;34m:\u001b[0m\u001b[0mni\u001b[0m\u001b[0;34m]\u001b[0m\u001b[0;34m\u001b[0m\u001b[0m\n\u001b[1;32m     25\u001b[0m             \u001b[0mtemp\u001b[0m\u001b[0;34m=\u001b[0m\u001b[0;34m[\u001b[0m\u001b[0mNormalized_P\u001b[0m\u001b[0;34m[\u001b[0m\u001b[0mii\u001b[0m\u001b[0;34m,\u001b[0m\u001b[0mi\u001b[0m\u001b[0;34m]\u001b[0m\u001b[0;34m*\u001b[0m\u001b[0mNormalized_P\u001b[0m\u001b[0;34m[\u001b[0m\u001b[0mindex\u001b[0m\u001b[0;34m[\u001b[0m\u001b[0mj\u001b[0m\u001b[0;34m:\u001b[0m\u001b[0mni\u001b[0m\u001b[0;34m]\u001b[0m\u001b[0;34m,\u001b[0m\u001b[0mi\u001b[0m\u001b[0;34m]\u001b[0m\u001b[0;34m]\u001b[0m\u001b[0;34m;\u001b[0m\u001b[0;34m\u001b[0m\u001b[0m\n\u001b[0;32m---> 26\u001b[0;31m             \u001b[0;32mprint\u001b[0m \u001b[0maux\u001b[0m\u001b[0;34m.\u001b[0m\u001b[0mshape\u001b[0m\u001b[0;34m,\u001b[0m\u001b[0mtemp\u001b[0m\u001b[0;34m.\u001b[0m\u001b[0mshape\u001b[0m\u001b[0;34m\u001b[0m\u001b[0m\n\u001b[0m\u001b[1;32m     27\u001b[0m             \u001b[0maux\u001b[0m\u001b[0;34m=\u001b[0m\u001b[0mnp\u001b[0m\u001b[0;34m.\u001b[0m\u001b[0mcolumn_stack\u001b[0m\u001b[0;34m(\u001b[0m\u001b[0;34m(\u001b[0m\u001b[0maux\u001b[0m\u001b[0;34m,\u001b[0m \u001b[0mtemp\u001b[0m\u001b[0;34m)\u001b[0m\u001b[0;34m)\u001b[0m\u001b[0;34m\u001b[0m\u001b[0m\n\u001b[1;32m     28\u001b[0m \u001b[0;34m\u001b[0m\u001b[0m\n",
      "\u001b[0;31mAttributeError\u001b[0m: 'builtin_function_or_method' object has no attribute 'shape'"
     ]
    }
   ],
   "source": [
    "central_ckv(P,R,c,k,weights,Nd,index,xtest)"
   ]
  },
  {
   "cell_type": "code",
   "execution_count": null,
   "metadata": {
    "collapsed": false
   },
   "outputs": [],
   "source": [
    "x1 = np.arange(9.0).reshape((3, 3))\n",
    "x2 = np.arange(3.0)\n",
    "print type(x1),type(x2)\n",
    "print x1.shape\n",
    "print x2.shape\n",
    "np.multiply(x1, x2)\n",
    "    "
   ]
  },
  {
   "cell_type": "code",
   "execution_count": 22,
   "metadata": {
    "collapsed": false
   },
   "outputs": [
    {
     "name": "stdout",
     "output_type": "stream",
     "text": [
      "[0 1 2 3 4 5 6 7 8 9]\n",
      "2\n",
      "8\n",
      "[2 3 4]\n",
      "[1 3 5]\n"
     ]
    }
   ],
   "source": [
    "x = np.arange(10)\n",
    "print x\n",
    "print x[2]\n",
    "print x[-2]\n",
    "print x[2:5:1]\n",
    "print x[1:7:2]"
   ]
  },
  {
   "cell_type": "code",
   "execution_count": 19,
   "metadata": {
    "collapsed": false
   },
   "outputs": [
    {
     "name": "stdout",
     "output_type": "stream",
     "text": [
      "[[0 1 2 3 4]\n",
      " [5 6 7 8 9]]\n",
      "8\n",
      "2 2\n"
     ]
    }
   ],
   "source": [
    "x.shape = (2,5) \n",
    "print x\n",
    "print x[1,3]\n",
    "print x[0][2], x[0,2]"
   ]
  },
  {
   "cell_type": "code",
   "execution_count": null,
   "metadata": {
    "collapsed": true
   },
   "outputs": [],
   "source": []
  }
 ],
 "metadata": {
  "kernelspec": {
   "display_name": "Python 2",
   "language": "python",
   "name": "python2"
  },
  "language_info": {
   "codemirror_mode": {
    "name": "ipython",
    "version": 2
   },
   "file_extension": ".py",
   "mimetype": "text/x-python",
   "name": "python",
   "nbconvert_exporter": "python",
   "pygments_lexer": "ipython2",
   "version": "2.7.11"
  }
 },
 "nbformat": 4,
 "nbformat_minor": 0
}
