{
 "cells": [
  {
   "cell_type": "markdown",
   "metadata": {},
   "source": [
    "## Demonstration of notebook served by non-local server.  \n",
    "\n",
    "### This is the RSM implementaiton in Python with ipwidgets control of the RSM parameters."
   ]
  },
  {
   "cell_type": "code",
   "execution_count": 1,
   "metadata": {
    "collapsed": false
   },
   "outputs": [],
   "source": [
    "from pylab import *\n",
    "import matplotlib.tri as Tri\n",
    "import matplotlib.pyplot as plt\n",
    "\n",
    "import h5py\n",
    "import numpy as np\n",
    "import numpy.matlib as ml\n",
    "import numpy.linalg as la\n",
    "import numpy.ma as ma\n",
    "\n",
    "from central_ckv import central_ckv"
   ]
  },
  {
   "cell_type": "code",
   "execution_count": 2,
   "metadata": {
    "collapsed": false
   },
   "outputs": [
    {
     "name": "stdout",
     "output_type": "stream",
     "text": [
      "<HDF5 file \"temp3.mat\" (mode r)>\n"
     ]
    }
   ],
   "source": [
    "# import matlab .mat file into python\n",
    "# get the model in a matlab file, stored as -v7.3\n",
    "# the model components must be saved as individual variables, \n",
    "# not as a struct.  See the matlab code structfields2vars\n",
    "mf='temp3.mat';\n",
    "\n",
    "f = h5py.File(mf, \"r\")\n",
    "print f"
   ]
  },
  {
   "cell_type": "code",
   "execution_count": 3,
   "metadata": {
    "collapsed": false
   },
   "outputs": [],
   "source": [
    "#print f.keys()\n",
    "#for name in f:\n",
    "#     print name\n",
    "#print \"P\" in f\n",
    "\n",
    "global c, k, Nd\n",
    "global P, R, weights, index\n",
    "\n",
    "c=np.squeeze(f['c'][:])\n",
    "k=np.squeeze(f['k'][:])\n",
    "Nd=np.squeeze(f['n_d'][:])\n",
    "P=np.transpose(f['P'][:])\n",
    "R=np.transpose(f['R'][:])\n",
    "weights=np.squeeze(f['weights'][:])\n",
    "index=np.squeeze(f['index'][:])\n",
    "#xtest=np.squeeze(f['X'][:])\n",
    "xtest=np.array([ 66.8, 1.06, 7.5, 38, 5.23, 5.25])\n",
    "xtest=np.squeeze(np.transpose(xtest))\n",
    "\n",
    "rmw=xtest[0]\n",
    "H_b=xtest[1]\n",
    "TS=xtest[2]\n",
    "Vmax=xtest[3]\n",
    "LatNorth=xtest[4]\n",
    "LatSouth=xtest[5]\n",
    "#rmw,H_b,TS,Vmax,LatNorth,LatSouth\n",
    "\n",
    "p1min=np.min(P[:,0]); p1max=np.max(P[:,0])  # rmw\n",
    "p2min=np.min(P[:,1]); p2max=np.max(P[:,1])  # H_b\n",
    "p3min=np.min(P[:,2]); p3max=np.max(P[:,2])  # TS\n",
    "p4min=np.min(P[:,3]); p4max=np.max(P[:,3])  # Vmax\n",
    "p5min=np.min(P[:,4]); p5max=np.max(P[:,4])  # LatNorth\n",
    "p6min=np.min(P[:,5]); p6max=np.max(P[:,5])  # LatSouth\n",
    "\n",
    "dp1=(p1max-p1min)/20\n",
    "dp2=(p2max-p2min)/20\n",
    "dp3=(p3max-p3min)/20\n",
    "dp4=(p4max-p4min)/20\n",
    "dp5=(p5max-p5min)/20\n",
    "dp6=(p6max-p6min)/20\n",
    "\n",
    "# get the FEM grid parts from f to create a triangulation object\n",
    "lon = np.squeeze(f['x'][:])\n",
    "lat = np.squeeze(f['y'][:])\n",
    "latmin = np.mean(lat)  # needed for scaling lon/lat plots\n",
    "nv  = np.squeeze(f['e'][:,:] -1)\n",
    "nv=np.transpose(nv)\n",
    "tri = Tri.Triangulation(lon,lat, triangles=nv)\n",
    "\n",
    "NodeIndices=np.squeeze(f['NodeIndices'][:])\n",
    "NodeIndices=(NodeIndices-1).astype(int)"
   ]
  },
  {
   "cell_type": "code",
   "execution_count": 4,
   "metadata": {
    "collapsed": false
   },
   "outputs": [],
   "source": [
    "def master(rmw,H_b,TS,Vmax,LatNorth,LatSouth):\n",
    "    \n",
    "    global c, k, Nd\n",
    "    global P, R, weights, index\n",
    "    \n",
    "    xtest=np.array([rmw,H_b,TS,Vmax,LatNorth,LatSouth])\n",
    "    temp=central_ckv(P,R,c,k,weights,Nd,index,xtest)\n",
    "    vmin=np.floor(np.nanmin(temp))\n",
    "    vmax=np.ceil(np.nanmax(temp))\n",
    "    levels = linspace(vmin,vmax,11)\n",
    "\n",
    "    # put response into variable sized as lon.shape\n",
    "    zhat=ma.array(np.zeros(tri.x.shape))\n",
    "    zhat[:]=zhat.fill_value\n",
    "    zhat[NodeIndices]=temp\n",
    "\n",
    "    #print 'Making contours in figure ...'\n",
    "    fig = plt.figure(figsize=(4,3), dpi=144);\n",
    "    ax = fig.add_axes([0.0, 0.1, 0.8, 0.8]) \n",
    "    ax.set_aspect(1.0/np.cos(latmin * np.pi / 180.0))\n",
    "\n",
    "    #print 'Calling tricontourf  ...'\n",
    "    contour = tricontourf(tri, zhat, levels=levels,shading='flat')\n",
    "    plt.grid(True)\n",
    "    plt.xlim((-80,-74))\n",
    "    plt.ylim((33,37))\n",
    "    plt.tick_params(axis='both', which='major', labelsize=8)\n",
    "    plt.title('RSM test in Python', fontsize=12)\n",
    "\n",
    "    # add colorbar\n",
    "    cbax = fig.add_axes([0.82, 0.1, 0.05, 0.8]) \n",
    "    cb = plt.colorbar(contour, cax=cbax,  orientation='vertical')\n",
    "    cb.set_label('[m MSL]', fontsize=8)\n",
    "    cb.ax.tick_params(axis='both', which='major', labelsize=8)\n",
    "    "
   ]
  },
  {
   "cell_type": "code",
   "execution_count": 5,
   "metadata": {
    "collapsed": false
   },
   "outputs": [
    {
     "name": "stderr",
     "output_type": "stream",
     "text": [
      "/opt/anaconda/lib/python2.7/site-packages/matplotlib/axes/_base.py:1057: UnicodeWarning: Unicode equal comparison failed to convert both arguments to Unicode - interpreting them as being unequal\n",
      "  if aspect == 'normal':\n",
      "/opt/anaconda/lib/python2.7/site-packages/matplotlib/axes/_base.py:1062: UnicodeWarning: Unicode equal comparison failed to convert both arguments to Unicode - interpreting them as being unequal\n",
      "  elif aspect in ('equal', 'auto'):\n"
     ]
    }
   ],
   "source": [
    "master(66.8,1,7.5,38,5,5)"
   ]
  },
  {
   "cell_type": "code",
   "execution_count": 7,
   "metadata": {
    "collapsed": false
   },
   "outputs": [],
   "source": [
    "#from __future__ import print_function # for python 2\n",
    "from ipywidgets import interact, interactive, fixed\n",
    "import ipywidgets as widgets"
   ]
  },
  {
   "cell_type": "code",
   "execution_count": 8,
   "metadata": {
    "collapsed": false,
    "scrolled": false
   },
   "outputs": [
    {
     "data": {
      "text/plain": [
       "<function __main__.master>"
      ]
     },
     "execution_count": 8,
     "metadata": {},
     "output_type": "execute_result"
    }
   ],
   "source": [
    "#rmw,H_b,TS,Vmax,LatNorth,LatSouth\n",
    "interact(master, \\\n",
    "         rmw     =widgets.FloatSlider(min=p1min,max=p1max,step=dp1,value=rmw),\\\n",
    "         H_b     =widgets.FloatSlider(min=p2min,max=p2max,step=dp2,value=H_b),\\\n",
    "         TS      =widgets.FloatSlider(min=p3min,max=p3max,step=dp3,value=TS),\\\n",
    "         Vmax    =widgets.FloatSlider(min=p4min,max=p4max,step=dp4,value=Vmax),\\\n",
    "         LatNorth=widgets.FloatSlider(min=p5min,max=p5max,step=dp5,value=LatNorth),\\\n",
    "         LatSouth=widgets.FloatSlider(min=p6min,max=p6max,step=dp6,value=LatSouth))"
   ]
  },
  {
   "cell_type": "code",
   "execution_count": null,
   "metadata": {
    "collapsed": true
   },
   "outputs": [],
   "source": []
  },
  {
   "cell_type": "code",
   "execution_count": null,
   "metadata": {
    "collapsed": true
   },
   "outputs": [],
   "source": []
  }
 ],
 "metadata": {
  "kernelspec": {
   "display_name": "Python 2",
   "language": "python",
   "name": "python2"
  },
  "language_info": {
   "codemirror_mode": {
    "name": "ipython",
    "version": 2
   },
   "file_extension": ".py",
   "mimetype": "text/x-python",
   "name": "python",
   "nbconvert_exporter": "python",
   "pygments_lexer": "ipython2",
   "version": "2.7.11"
  }
 },
 "nbformat": 4,
 "nbformat_minor": 0
}
