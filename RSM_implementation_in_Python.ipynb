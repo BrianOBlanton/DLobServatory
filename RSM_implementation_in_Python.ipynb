{
 "cells": [
  {
   "cell_type": "markdown",
   "metadata": {},
   "source": [
    "import matlab .mat file into python\n"
   ]
  },
  {
   "cell_type": "code",
   "execution_count": 1,
   "metadata": {
    "collapsed": false
   },
   "outputs": [],
   "source": [
    "from pylab import *\n",
    "import matplotlib.tri as Tri\n",
    "import matplotlib.pyplot as plt\n",
    "%matplotlib inline\n",
    "\n",
    "#import tables\n",
    "import h5py\n",
    "import numpy as np\n",
    "import numpy.matlib as ml\n",
    "import numpy.linalg as la"
   ]
  },
  {
   "cell_type": "code",
   "execution_count": 2,
   "metadata": {
    "collapsed": false
   },
   "outputs": [
    {
     "name": "stdout",
     "output_type": "stream",
     "text": [
      "<HDF5 file \"temp3.mat\" (mode r)>\n"
     ]
    }
   ],
   "source": [
    "# get the model in a matlab file, stored as -v7.3\n",
    "# the model components must be saved as individual variables, \n",
    "# not as a struct.  See the matlab code structfields2vars\n",
    "mf='temp3.mat';\n",
    "#f = tables.openFile(mf, \"r\")\n",
    "f = h5py.File(mf, \"r\")\n",
    "print f"
   ]
  },
  {
   "cell_type": "code",
   "execution_count": 3,
   "metadata": {
    "collapsed": false
   },
   "outputs": [
    {
     "name": "stdout",
     "output_type": "stream",
     "text": [
      "[u'#refs#', u'#subsystem#', u'AR2', u'CrossingLines', u'LB', u'NodeIndices', u'P', u'R', u'R_name', u'TheGrid', u'UB', u'X', u'bnd', u'c', u'e', u'error_label', u'error_table', u'index', u'j', u'k', u'n_d', u'name', u'patsrch', u'pattern_search', u'rndseed', u'tracks', u'v', u'v2', u'weights', u'x', u'y', u'z']\n",
      "True\n"
     ]
    }
   ],
   "source": [
    "print f.keys()\n",
    "#for name in f:\n",
    "#     print name\n",
    "print \"P\" in f\n",
    "c=np.squeeze(f['c'][:])\n",
    "k=np.squeeze(f['k'][:])\n",
    "Nd=np.squeeze(f['n_d'][:])\n",
    "P=np.transpose(f['P'][:])\n",
    "R=np.transpose(f['R'][:])\n",
    "weights=np.squeeze(f['weights'][:])\n",
    "index=np.squeeze(f['index'][:])\n",
    "#xtest=np.squeeze(f['X'][:])\n",
    "xtest=np.array([ 66.8, 1.06, 7.5, 38, 5.23, 5.25])\n",
    "xtest=np.squeeze(np.transpose(xtest))\n",
    "\n",
    "p1=xtest[0]\n",
    "p2=xtest[1]\n",
    "p3=xtest[2]\n",
    "p4=xtest[3]\n",
    "p5=xtest[4]\n",
    "p6=xtest[5]\n",
    "\n",
    "p1min=np.min(P[:,0]); p1max=np.max(P[:,0])  # rmw\n",
    "p2min=np.min(P[:,1]); p2max=np.max(P[:,1])  # H_b\n",
    "p3min=np.min(P[:,2]); p3max=np.max(P[:,2])  # TS\n",
    "p4min=np.min(P[:,3]); p4max=np.max(P[:,3])  # Vmax\n",
    "p5min=np.min(P[:,4]); p5max=np.max(P[:,4])  # LatNorth\n",
    "p6min=np.min(P[:,5]); p6max=np.max(P[:,5])  # LatSouth\n",
    "\n",
    "dp1=(p1max-p1min)/20\n",
    "dp2=(p2max-p2min)/20\n",
    "dp3=(p3max-p3min)/20\n",
    "dp4=(p4max-p4min)/20\n",
    "dp5=(p5max-p5min)/20\n",
    "dp6=(p6max-p6min)/20\n",
    "\n",
    "#print P.shape, type(P), P[45,4]\n",
    "#print R.shape, type(R), R[45,4]\n",
    "#print c.shape, type(c), c\n",
    "#print type(index), index\n",
    "\n",
    "\n",
    "global c, k, Nd\n",
    "global P, R, weights, index\n",
    "\n",
    "# get the FEM grid parts from f to create a triangulation object\n",
    "lon = np.squeeze(f['x'][:])\n",
    "lat = np.squeeze(f['y'][:])\n",
    "latmin = np.mean(lat)  # needed for scaling lon/lat plots\n",
    "nv  = np.squeeze(f['e'][:,:] -1)\n",
    "nv=np.transpose(nv)\n",
    "tri = Tri.Triangulation(lon,lat, triangles=nv)\n",
    "\n",
    "\n",
    "NodeIndices=np.squeeze(f['NodeIndices'][:])\n",
    "NodeIndices=(NodeIndices-1).astype(int)"
   ]
  },
  {
   "cell_type": "code",
   "execution_count": 4,
   "metadata": {
    "collapsed": false
   },
   "outputs": [],
   "source": [
    "def master(p1,p2,p3,p4,p5,p6):\n",
    "    \n",
    "    global c, k, Nd\n",
    "    global P, R, weights, index\n",
    "    \n",
    "    xtest=np.array([p1,p2,p3,p4,p5,p6])\n",
    "    temp=central_ckv(P,R,c,k,weights,Nd,index,xtest)\n",
    "    \n",
    "    # put response into variable sized as lon.shape\n",
    "    print tri.x.shape\n",
    "    zhat=np.zeros(tri.x.shape)\n",
    "    #zhat.fill(np.nan)\n",
    "    #print zhat[0:10]\n",
    "    zhat[NodeIndices]=temp\n",
    "    \n",
    "    #print 'Making contours in figure ...'\n",
    "    fig = plt.figure(figsize=(10,5), dpi=144)\n",
    "    ax = fig.add_axes([0.1, 0.1, 0.8, 0.8]) \n",
    "    ax.set_aspect(1.0/np.cos(latmin * np.pi / 180.0))\n",
    "\n",
    "    #print 'Calling tricontourf  ...'\n",
    "    vmax=np.max(np.abs(temp))\n",
    "    levels = linspace(0.,np.ceil(vmax),11)\n",
    "    #print levels\n",
    "    \n",
    "    contour = tricontourf(tri, zhat, levels=levels,shading='faceted')\n",
    "    plt.grid(True)\n",
    "    plt.xlim((-80,-74))\n",
    "    plt.ylim((33,37))\n",
    "    plt.tick_params(axis='both', which='major', labelsize=12)\n",
    "    plt.title('RSM test in Python', fontsize=16)\n",
    "\n",
    "    # add colorbar\n",
    "    cbax = fig.add_axes([0.80, 0.1, 0.05, 0.8]) \n",
    "    cb = plt.colorbar(contour, cax=cbax,  orientation='vertical')\n",
    "    cb.set_label('[m MSL]', fontsize=24)\n",
    "    cb.ax.tick_params(axis='both', which='major', labelsize=12)\n",
    "    "
   ]
  },
  {
   "cell_type": "code",
   "execution_count": 5,
   "metadata": {
    "collapsed": true
   },
   "outputs": [],
   "source": [
    "def central_ckv (P,R,c,k,weights,Nd,index,xtest):\n",
    "    \n",
    "    one=np.ones(1)\n",
    "    one=np.expand_dims(one,axis=1)\n",
    "\n",
    "    P=np.transpose(P)\n",
    "    ni=index.shape[0]\n",
    "    index=(index-1).astype(int)    \n",
    "    \n",
    "    # normalization of model parameters \n",
    "    v_aux=np.diag(1/np.mean(P,axis=1))\n",
    "    \n",
    "    # convert model parameters to normalised space\n",
    "    Normalized_P=np.dot(v_aux,P)\n",
    "    \n",
    "    NSupportPoints=Normalized_P.shape[1];  \n",
    "    Weight_Matrix=np.diag(weights/np.std(Normalized_P,axis=1,ddof=1)); \n",
    "    mean_R=np.mean(R,axis=0); \n",
    "    mean_R=np.expand_dims(mean_R,axis=1)\n",
    "    mean_R=np.transpose(mean_R)\n",
    "\n",
    "    std_R=np.std(R,axis=0,ddof=1);\n",
    "    std_R=np.expand_dims(std_R,axis=1)\n",
    "\n",
    "    temp=ml.repmat(mean_R,NSupportPoints,1)\n",
    "    numer=R-temp\n",
    "\n",
    "    S=np.array(1/std_R)\n",
    "    S=np.diag(np.squeeze(S),k=0)\n",
    "    \n",
    "    Normalized_R=np.dot(numer,S);\n",
    "\n",
    "    BasisFxns=np.array([])\n",
    "    for i in range(0,NSupportPoints): \n",
    "        \n",
    "        for j in range(0,ni):\n",
    "            ii=index[j]\n",
    "            temp=np.array([Normalized_P[ii,i]*Normalized_P[index[j:ni],i]])\n",
    "            temp=np.transpose(temp)\n",
    "\n",
    "            if (j == 0):\n",
    "                aux=np.array(temp)\n",
    "            else:\n",
    "                aux=np.vstack((aux, temp))\n",
    "                \n",
    "        temp=Normalized_P[:,i] \n",
    "        temp=np.expand_dims(temp,axis=0)\n",
    "        aux=np.transpose(aux)\n",
    "        temp=np.hstack((one,temp, aux))\n",
    "      \n",
    "        if (i==0):\n",
    "            BasisFxns=temp\n",
    "        else:\n",
    "            BasisFxns=np.vstack((BasisFxns,temp))\n",
    "                        \n",
    "    zhat=sur_model(xtest,v_aux,Weight_Matrix,Normalized_P,Nd,c,k,BasisFxns,Normalized_R,mean_R,std_R,NSupportPoints,index)   \n",
    "    return zhat"
   ]
  },
  {
   "cell_type": "code",
   "execution_count": 6,
   "metadata": {
    "collapsed": false
   },
   "outputs": [],
   "source": [
    "def sur_model(x,v_aux,Weight_Matrix,Normalized_P,Nd,c,k,BasisFxns,Normalized_R,mean_R,std_R,NSupportPoints,index):\n",
    "\n",
    "    one=np.ones(1)\n",
    "    one=np.expand_dims(one,axis=1)\n",
    "    \n",
    "    # normalize input vector x\n",
    "    Normalized_X=np.dot(v_aux,x)\n",
    "    Normalized_X=np.expand_dims(Normalized_X,axis=1)\n",
    "\n",
    "    Parameter_Diffs=ml.repmat(Normalized_X,1,NSupportPoints)-Normalized_P\n",
    "    Parameter_Diffs_Weighted=np.dot(Weight_Matrix,Parameter_Diffs)\n",
    "    \n",
    "    temp=np.square(Parameter_Diffs_Weighted,Parameter_Diffs_Weighted)\n",
    "    temp=np.sum(temp,axis=0)\n",
    "    temp=np.expand_dims(temp,axis=0)\n",
    "    Distance=np.sqrt(temp);\n",
    "\n",
    "    SortedDistanceIndex=np.argsort(Distance); \n",
    "    SortedDistance=Distance[0,SortedDistanceIndex]    \n",
    "    D=SortedDistance[0,Nd.astype(int)-1]\n",
    "    SelectedStorms=SortedDistanceIndex[0,:Nd.astype(int)]\n",
    "\n",
    "    f=np.exp(-np.power(1/c,k))\n",
    "    denom=(1-f)\n",
    "    numer=np.exp(-(np.power(Distance/D/c,k)))-f\n",
    "    aux1=numer/denom;\n",
    "\n",
    "    W=np.diag(aux1[0,SelectedStorms]); \n",
    "\n",
    "    Ba=BasisFxns[SelectedStorms,:];\n",
    "    \n",
    "    ni=index.shape[0]\n",
    "\n",
    "    for j in range(0,ni):\n",
    "        ii=index[j]\n",
    "        temp=np.array([Normalized_X[ii]*Normalized_X[index[j:ni]]])\n",
    "        temp=np.squeeze(temp)\n",
    "        temp=np.expand_dims(temp,axis=1)\n",
    "\n",
    "        if (j == 0):\n",
    "            aux=np.array(temp)\n",
    "        else:\n",
    "            aux=np.vstack((aux, temp))\n",
    "\n",
    "    b=np.hstack((one,np.transpose(Normalized_X), np.transpose(aux)))\n",
    "\n",
    "    # auxiliary matrices\n",
    "    L=np.dot(np.transpose(Ba),W)\n",
    "    M=np.dot(L,Ba) \n",
    "    \n",
    "    # auxM are the b'*inv(M)*L coefficients in eqn 24 of Taflanidis 2012\n",
    "    Mi=la.inv(M)\n",
    "    temp=np.dot(b,Mi)\n",
    "    auxM=np.dot(temp,L);\n",
    "\n",
    "    Fi=Normalized_R[SelectedStorms,:];\n",
    "\n",
    "    temp=np.dot(auxM,Fi)\n",
    "    std_R=np.transpose(std_R)\n",
    "\n",
    "    temp2=temp[0,:]*std_R\n",
    "    f=temp2+mean_R\n",
    "    f=np.squeeze(f)\n",
    "    \n",
    "    return f"
   ]
  },
  {
   "cell_type": "code",
   "execution_count": 7,
   "metadata": {
    "collapsed": false
   },
   "outputs": [],
   "source": [
    "# evaluate the model at xtest parameters\n",
    "#zhat=master(p1,p2,p3,p4,p5,p6)"
   ]
  },
  {
   "cell_type": "code",
   "execution_count": 8,
   "metadata": {
    "collapsed": false
   },
   "outputs": [],
   "source": [
    "#from __future__ import print_function # for python 2\n",
    "from ipywidgets import interact, interactive, fixed\n",
    "import ipywidgets as widgets"
   ]
  },
  {
   "cell_type": "code",
   "execution_count": 10,
   "metadata": {
    "collapsed": false,
    "scrolled": true
   },
   "outputs": [
    {
     "name": "stdout",
     "output_type": "stream",
     "text": [
      "(1681,)\n"
     ]
    },
    {
     "data": {
      "image/png": "[encoded data removed]",
      "text/plain": [
       "<matplotlib.figure.Figure at 0x105fdcd10>"
      ]
     },
     "metadata": {},
     "output_type": "display_data"
    }
   ],
   "source": [
    "interact(master, \\\n",
    "         p1=widgets.FloatSlider(min=p1min,max=p1max,step=dp1,value=p1),\\\n",
    "         p2=widgets.FloatSlider(min=p2min,max=p2max,step=dp2,value=p2),\\\n",
    "         p3=widgets.FloatSlider(min=p3min,max=p3max,step=dp3,value=p3),\\\n",
    "         p4=widgets.FloatSlider(min=p4min,max=p4max,step=dp4,value=p4),\\\n",
    "         p5=widgets.FloatSlider(min=p5min,max=p5max,step=dp5,value=p5),\\\n",
    "         p6=widgets.FloatSlider(min=p6min,max=p6max,step=dp6,value=p6))"
   ]
  },
  {
   "cell_type": "code",
   "execution_count": null,
   "metadata": {
    "collapsed": true
   },
   "outputs": [],
   "source": []
  }
 ],
 "metadata": {
  "kernelspec": {
   "display_name": "Python 2",
   "language": "python",
   "name": "python2"
  },
  "language_info": {
   "codemirror_mode": {
    "name": "ipython",
    "version": 2
   },
   "file_extension": ".py",
   "mimetype": "text/x-python",
   "name": "python",
   "nbconvert_exporter": "python",
   "pygments_lexer": "ipython2",
   "version": "2.7.11"
  }
 },
 "nbformat": 4,
 "nbformat_minor": 0
}
