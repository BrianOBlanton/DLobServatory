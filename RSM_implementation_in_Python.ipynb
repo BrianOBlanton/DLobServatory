{
 "cells": [
  {
   "cell_type": "markdown",
   "metadata": {},
   "source": [
    "import matlab .mat file into python\n"
   ]
  },
  {
   "cell_type": "code",
   "execution_count": 1,
   "metadata": {
    "collapsed": false
   },
   "outputs": [],
   "source": [
    "from pylab import *\n",
    "import matplotlib.tri as Tri\n",
    "import matplotlib.pyplot as plt\n",
    "%matplotlib inline\n",
    "\n",
    "#import tables\n",
    "import h5py\n",
    "import numpy as np\n",
    "import numpy.matlib as ml\n",
    "import numpy.linalg as la\n",
    "\n",
    "from central_ckv import central_ckv"
   ]
  },
  {
   "cell_type": "code",
   "execution_count": 2,
   "metadata": {
    "collapsed": false
   },
   "outputs": [
    {
     "name": "stdout",
     "output_type": "stream",
     "text": [
      "<HDF5 file \"temp3.mat\" (mode r)>\n"
     ]
    }
   ],
   "source": [
    "# get the model in a matlab file, stored as -v7.3\n",
    "# the model components must be saved as individual variables, \n",
    "# not as a struct.  See the matlab code structfields2vars\n",
    "mf='temp3.mat';\n",
    "#f = tables.openFile(mf, \"r\")\n",
    "f = h5py.File(mf, \"r\")\n",
    "print f"
   ]
  },
  {
   "cell_type": "code",
   "execution_count": 3,
   "metadata": {
    "collapsed": false
   },
   "outputs": [],
   "source": [
    "#print f.keys()\n",
    "#for name in f:\n",
    "#     print name\n",
    "#print \"P\" in f\n",
    "c=np.squeeze(f['c'][:])\n",
    "k=np.squeeze(f['k'][:])\n",
    "Nd=np.squeeze(f['n_d'][:])\n",
    "P=np.transpose(f['P'][:])\n",
    "R=np.transpose(f['R'][:])\n",
    "weights=np.squeeze(f['weights'][:])\n",
    "index=np.squeeze(f['index'][:])\n",
    "#xtest=np.squeeze(f['X'][:])\n",
    "xtest=np.array([ 66.8, 1.06, 7.5, 38, 5.23, 5.25])\n",
    "xtest=np.squeeze(np.transpose(xtest))\n",
    "\n",
    "rmw=xtest[0]\n",
    "H_b=xtest[1]\n",
    "TS=xtest[2]\n",
    "Vmax=xtest[3]\n",
    "LatNorth=xtest[4]\n",
    "LatSouth=xtest[5]\n",
    "\n",
    "rmw,H_b,TS,Vmax,LatNorth,LatSouth\n",
    "\n",
    "\n",
    "\n",
    "p1min=np.min(P[:,0]); p1max=np.max(P[:,0])  # rmw\n",
    "p2min=np.min(P[:,1]); p2max=np.max(P[:,1])  # H_b\n",
    "p3min=np.min(P[:,2]); p3max=np.max(P[:,2])  # TS\n",
    "p4min=np.min(P[:,3]); p4max=np.max(P[:,3])  # Vmax\n",
    "p5min=np.min(P[:,4]); p5max=np.max(P[:,4])  # LatNorth\n",
    "p6min=np.min(P[:,5]); p6max=np.max(P[:,5])  # LatSouth\n",
    "\n",
    "dp1=(p1max-p1min)/20\n",
    "dp2=(p2max-p2min)/20\n",
    "dp3=(p3max-p3min)/20\n",
    "dp4=(p4max-p4min)/20\n",
    "dp5=(p5max-p5min)/20\n",
    "dp6=(p6max-p6min)/20\n",
    "\n",
    "#print P.shape, type(P), P[45,4]\n",
    "#print R.shape, type(R), R[45,4]\n",
    "#print c.shape, type(c), c\n",
    "#print type(index), index\n",
    "\n",
    "\n",
    "global c, k, Nd\n",
    "global P, R, weights, index\n",
    "\n",
    "# get the FEM grid parts from f to create a triangulation object\n",
    "lon = np.squeeze(f['x'][:])\n",
    "lat = np.squeeze(f['y'][:])\n",
    "latmin = np.mean(lat)  # needed for scaling lon/lat plots\n",
    "nv  = np.squeeze(f['e'][:,:] -1)\n",
    "nv=np.transpose(nv)\n",
    "tri = Tri.Triangulation(lon,lat, triangles=nv)\n",
    "\n",
    "\n",
    "NodeIndices=np.squeeze(f['NodeIndices'][:])\n",
    "NodeIndices=(NodeIndices-1).astype(int)"
   ]
  },
  {
   "cell_type": "code",
   "execution_count": 4,
   "metadata": {
    "collapsed": false
   },
   "outputs": [],
   "source": [
    "def master(rmw,H_b,TS,Vmax,LatNorth,LatSouth):\n",
    "    \n",
    "    global c, k, Nd\n",
    "    global P, R, weights, index\n",
    "    \n",
    "    xtest=np.array([rmw,H_b,TS,Vmax,LatNorth,LatSouth])\n",
    "    temp=central_ckv(P,R,c,k,weights,Nd,index,xtest)\n",
    "    \n",
    "    # put response into variable sized as lon.shape\n",
    "    print tri.x.shape\n",
    "    zhat=np.zeros(tri.x.shape)\n",
    "    #zhat.fill(np.nan)\n",
    "    #print zhat[0:10]\n",
    "    zhat[NodeIndices]=temp\n",
    "    \n",
    "    #print 'Making contours in figure ...'\n",
    "    fig = plt.figure(figsize=(10,5), dpi=144)\n",
    "    ax = fig.add_axes([0.1, 0.1, 0.8, 0.8]) \n",
    "    ax.set_aspect(1.0/np.cos(latmin * np.pi / 180.0))\n",
    "\n",
    "    #print 'Calling tricontourf  ...'\n",
    "    vmax=np.max(np.abs(temp))\n",
    "    levels = linspace(0.,np.ceil(vmax),11)\n",
    "    #print levels\n",
    "    \n",
    "    contour = tricontourf(tri, zhat, levels=levels,shading='faceted')\n",
    "    plt.grid(True)\n",
    "    plt.xlim((-80,-74))\n",
    "    plt.ylim((33,37))\n",
    "    plt.tick_params(axis='both', which='major', labelsize=12)\n",
    "    plt.title('RSM test in Python', fontsize=16)\n",
    "\n",
    "    # add colorbar\n",
    "    cbax = fig.add_axes([0.80, 0.1, 0.05, 0.8]) \n",
    "    cb = plt.colorbar(contour, cax=cbax,  orientation='vertical')\n",
    "    cb.set_label('[m MSL]', fontsize=24)\n",
    "    cb.ax.tick_params(axis='both', which='major', labelsize=12)\n",
    "    "
   ]
  },
  {
   "cell_type": "code",
   "execution_count": 5,
   "metadata": {
    "collapsed": false
   },
   "outputs": [],
   "source": [
    "#from __future__ import print_function # for python 2\n",
    "from ipywidgets import interact, interactive, fixed\n",
    "import ipywidgets as widgets"
   ]
  },
  {
   "cell_type": "code",
   "execution_count": 6,
   "metadata": {
    "collapsed": false,
    "scrolled": false
   },
   "outputs": [
    {
     "name": "stdout",
     "output_type": "stream",
     "text": [
      "(1681,)\n"
     ]
    },
    {
     "name": "stderr",
     "output_type": "stream",
     "text": [
      "/opt/anaconda/lib/python2.7/site-packages/matplotlib/axes/_base.py:1057: UnicodeWarning: Unicode equal comparison failed to convert both arguments to Unicode - interpreting them as being unequal\n",
      "  if aspect == 'normal':\n",
      "/opt/anaconda/lib/python2.7/site-packages/matplotlib/axes/_base.py:1062: UnicodeWarning: Unicode equal comparison failed to convert both arguments to Unicode - interpreting them as being unequal\n",
      "  elif aspect in ('equal', 'auto'):\n"
     ]
    },
    {
     "data": {
      "text/plain": [
       "<function __main__.master>"
      ]
     },
     "execution_count": 6,
     "metadata": {},
     "output_type": "execute_result"
    },
    {
     "data": {
      "image/png": "[encoded data removed]",
      "text/plain": [
       "<matplotlib.figure.Figure at 0x10350e5d0>"
      ]
     },
     "metadata": {},
     "output_type": "display_data"
    }
   ],
   "source": [
    "interact(master, \\\n",
    "         p1=widgets.FloatSlider(min=p1min,max=p1max,step=dp1,value=p1),\\\n",
    "         p2=widgets.FloatSlider(min=p2min,max=p2max,step=dp2,value=p2),\\\n",
    "         p3=widgets.FloatSlider(min=p3min,max=p3max,step=dp3,value=p3),\\\n",
    "         p4=widgets.FloatSlider(min=p4min,max=p4max,step=dp4,value=p4),\\\n",
    "         p5=widgets.FloatSlider(min=p5min,max=p5max,step=dp5,value=p5),\\\n",
    "         p6=widgets.FloatSlider(min=p6min,max=p6max,step=dp6,value=p6))"
   ]
  },
  {
   "cell_type": "code",
   "execution_count": null,
   "metadata": {
    "collapsed": true
   },
   "outputs": [],
   "source": []
  },
  {
   "cell_type": "code",
   "execution_count": null,
   "metadata": {
    "collapsed": true
   },
   "outputs": [],
   "source": []
  }
 ],
 "metadata": {
  "kernelspec": {
   "display_name": "Python 2",
   "language": "python",
   "name": "python2"
  },
  "language_info": {
   "codemirror_mode": {
    "name": "ipython",
    "version": 2
   },
   "file_extension": ".py",
   "mimetype": "text/x-python",
   "name": "python",
   "nbconvert_exporter": "python",
   "pygments_lexer": "ipython2",
   "version": "2.7.11"
  }
 },
 "nbformat": 4,
 "nbformat_minor": 0
}
